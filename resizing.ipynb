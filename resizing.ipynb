{
 "cells": [
  {
   "cell_type": "code",
   "execution_count": 33,
   "id": "cebbfdfd-6b74-4359-8c4b-7c344a7bcbbb",
   "metadata": {},
   "outputs": [],
   "source": [
    "import cv2\n",
    "import os\n",
    "from tqdm import tqdm"
   ]
  },
  {
   "cell_type": "code",
   "execution_count": 34,
   "id": "ea7e9e56-e027-4013-991f-afd83d531f91",
   "metadata": {},
   "outputs": [
    {
     "data": {
      "text/plain": [
       "176"
      ]
     },
     "execution_count": 34,
     "metadata": {},
     "output_type": "execute_result"
    }
   ],
   "source": [
    "path = 'E:/Anaconda/Mitosis/Dataset/test/'\n",
    "ids = os.listdir(path + 'frames')\n",
    "len(ids)"
   ]
  },
  {
   "cell_type": "code",
   "execution_count": 35,
   "id": "384845d7-8a88-471d-8827-2e55bbb3d1f4",
   "metadata": {},
   "outputs": [
    {
     "name": "stderr",
     "output_type": "stream",
     "text": [
      "100%|████████████████████████████████████████████████████████████████████████████████| 176/176 [00:32<00:00,  5.36it/s]\n"
     ]
    }
   ],
   "source": [
    "for n,Id in tqdm(enumerate(ids), total = len(ids)):\n",
    "    img = cv2.imread(path + 'frames/'+ Id,1)\n",
    "    img = cv2.resize(img,(1024,1024))\n",
    "    cv2.imwrite(path + 'frames/' + Id,img)"
   ]
  },
  {
   "cell_type": "code",
   "execution_count": null,
   "id": "98ff2d48-7ed2-4b28-91bd-9bb966104f04",
   "metadata": {},
   "outputs": [],
   "source": []
  }
 ],
 "metadata": {
  "kernelspec": {
   "display_name": "Python 3",
   "language": "python",
   "name": "python3"
  },
  "language_info": {
   "codemirror_mode": {
    "name": "ipython",
    "version": 3
   },
   "file_extension": ".py",
   "mimetype": "text/x-python",
   "name": "python",
   "nbconvert_exporter": "python",
   "pygments_lexer": "ipython3",
   "version": "3.8.8"
  }
 },
 "nbformat": 4,
 "nbformat_minor": 5
}
