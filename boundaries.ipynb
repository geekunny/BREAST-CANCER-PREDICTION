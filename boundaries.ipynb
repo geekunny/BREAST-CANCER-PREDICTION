{
 "cells": [
  {
   "cell_type": "code",
   "execution_count": 7,
   "id": "b8f33d16-5304-4f69-aa7f-b99665d7b3d2",
   "metadata": {},
   "outputs": [],
   "source": [
    "import cv2\n",
    "import numpy as np\n",
    "from tqdm import tqdm\n",
    "import os"
   ]
  },
  {
   "cell_type": "code",
   "execution_count": 9,
   "id": "849fd049-d300-4b83-a8f0-fab26b06610b",
   "metadata": {},
   "outputs": [
    {
     "data": {
      "text/plain": [
       "176"
      ]
     },
     "execution_count": 9,
     "metadata": {},
     "output_type": "execute_result"
    }
   ],
   "source": [
    "path = 'Dataset/test/'\n",
    "ids = os.listdir(path + 'frames/')\n",
    "len(ids)"
   ]
  },
  {
   "cell_type": "code",
   "execution_count": 10,
   "id": "eeac0d76-8edb-493a-9cd5-e6c2f567798f",
   "metadata": {},
   "outputs": [
    {
     "name": "stderr",
     "output_type": "stream",
     "text": [
      "100%|████████████████████████████████████████████████████████████████████████████████| 176/176 [00:54<00:00,  3.26it/s]\n"
     ]
    }
   ],
   "source": [
    "for n,Id in tqdm(enumerate(ids), total = len(ids)):\n",
    "    img1 = cv2.imread(path + 'frames/' + Id,1)\n",
    "    img2 = cv2.imread(path + 'predictions/' + Id,1)\n",
    "    imgray = cv2.cvtColor(img2,cv2.COLOR_BGR2GRAY)\n",
    "    ret,thresh = cv2.threshold(imgray,127,255,0)\n",
    "    contours, hierarchy = cv2.findContours(thresh,cv2.RETR_EXTERNAL,cv2.CHAIN_APPROX_NONE)\n",
    "    tmp = np.zeros_like(img2)\n",
    "    boundary = cv2.drawContours(tmp, contours, -1, (255,255,255), 2)\n",
    "    boundary[boundary > 0] = 255\n",
    "    boundary[ np.where( ( boundary == [255,255,255] ).all( axis = 2) ) ] = [0,255,255]\n",
    "    img3 = cv2.addWeighted(img1,1,boundary,0.5,0)\n",
    "    cv2.imwrite(path + 'predictions/' + Id,img3)"
   ]
  },
  {
   "cell_type": "code",
   "execution_count": null,
   "id": "674f626e-4205-4c06-aceb-61c9f13690ef",
   "metadata": {},
   "outputs": [],
   "source": []
  }
 ],
 "metadata": {
  "kernelspec": {
   "display_name": "Python 3",
   "language": "python",
   "name": "python3"
  },
  "language_info": {
   "codemirror_mode": {
    "name": "ipython",
    "version": 3
   },
   "file_extension": ".py",
   "mimetype": "text/x-python",
   "name": "python",
   "nbconvert_exporter": "python",
   "pygments_lexer": "ipython3",
   "version": "3.8.8"
  }
 },
 "nbformat": 4,
 "nbformat_minor": 5
}
