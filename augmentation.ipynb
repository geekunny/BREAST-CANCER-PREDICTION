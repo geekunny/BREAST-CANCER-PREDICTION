{
 "cells": [
  {
   "cell_type": "code",
   "execution_count": 1,
   "id": "7d9dd797-40e0-434f-b343-2b3e932209b3",
   "metadata": {},
   "outputs": [],
   "source": [
    "from skimage import io\n",
    "import random\n",
    "import os\n",
    "import albumentations as A\n",
    "import cv2"
   ]
  },
  {
   "cell_type": "code",
   "execution_count": 2,
   "id": "39a4a9df-2146-42b6-a2d4-191cabc43fdf",
   "metadata": {},
   "outputs": [],
   "source": [
    "images_to_generate = 9\n",
    "\n",
    "frm_path =\"test\" \n",
    "# mit_path = \"Dataset/train/H07_mitosis\"\n",
    "frames=[] \n",
    "# mitosis=[]\n",
    "\n",
    "for fr in os.listdir(frm_path):   \n",
    "    frames.append(os.path.join(frm_path,fr))\n",
    "\n",
    "# for mi in os.listdir(mit_path): \n",
    "#     mitosis.append(os.path.join(mit_path,mi))"
   ]
  },
  {
   "cell_type": "code",
   "execution_count": 3,
   "id": "7d2d43f1-f530-4f42-a917-f1cbb0e5c9b0",
   "metadata": {},
   "outputs": [],
   "source": [
    "aug = A.Compose([\n",
    "    A.VerticalFlip(p=0.5),              \n",
    "    A.RandomRotate90(p=0.5),\n",
    "    A.HorizontalFlip(p=1),\n",
    "    A.Transpose(p=1),\n",
    "    A.GridDistortion(p=1)\n",
    "    ]\n",
    ")"
   ]
  },
  {
   "cell_type": "code",
   "execution_count": 4,
   "id": "4427e5d1-ba34-4079-9c64-f5497d59ae70",
   "metadata": {},
   "outputs": [
    {
     "name": "stdout",
     "output_type": "stream",
     "text": [
      "1\n",
      "2\n",
      "3\n",
      "4\n",
      "5\n",
      "6\n",
      "7\n",
      "8\n",
      "9\n"
     ]
    }
   ],
   "source": [
    "i=1 \n",
    "while i <= images_to_generate: \n",
    "    number = random.randint(0, len(frames)-1) \n",
    "    image = frames[number]\n",
    "#     mask = mitosis[number]\n",
    "    original_image = io.imread(image)\n",
    "#     original_mask = cv2.imread(mask)\n",
    "#     augmented = aug(image=original_image, mask=original_mask)\n",
    "    augmented = aug(image=original_image)\n",
    "    transformed_image = augmented['image']\n",
    "#     transformed_mask = augmented['mask']\n",
    "    new_image_path= \"%s/H07_04Z_id-%s.tiff\" %(frm_path,i)\n",
    "#     new_mask_path = \"%s/H07_04Z_id-%s.tiff\" %(mit_path,i)\n",
    "    io.imsave(new_image_path, transformed_image)\n",
    "#     io.imsave(new_mask_path, transformed_mask)\n",
    "    print(i)\n",
    "    i =i+1"
   ]
  },
  {
   "cell_type": "code",
   "execution_count": null,
   "id": "17987d6d-7e07-46a6-afeb-5e686df481ac",
   "metadata": {},
   "outputs": [],
   "source": []
  }
 ],
 "metadata": {
  "kernelspec": {
   "display_name": "Python 3",
   "language": "python",
   "name": "python3"
  },
  "language_info": {
   "codemirror_mode": {
    "name": "ipython",
    "version": 3
   },
   "file_extension": ".py",
   "mimetype": "text/x-python",
   "name": "python",
   "nbconvert_exporter": "python",
   "pygments_lexer": "ipython3",
   "version": "3.8.8"
  }
 },
 "nbformat": 4,
 "nbformat_minor": 5
}
