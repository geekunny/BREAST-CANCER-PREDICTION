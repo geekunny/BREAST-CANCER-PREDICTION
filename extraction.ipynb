{
 "cells": [
  {
   "cell_type": "code",
   "execution_count": 10,
   "id": "c07c6552-8117-47f5-9b01-9e782e876a65",
   "metadata": {},
   "outputs": [],
   "source": [
    "import cv2\n",
    "import pandas as pd\n",
    "from tqdm import tqdm\n",
    "import os"
   ]
  },
  {
   "cell_type": "code",
   "execution_count": 64,
   "id": "ec2a6323-7b97-4098-8b3e-ae359d6094c2",
   "metadata": {},
   "outputs": [
    {
     "data": {
      "text/plain": [
       "112"
      ]
     },
     "execution_count": 64,
     "metadata": {},
     "output_type": "execute_result"
    }
   ],
   "source": [
    "path = 'E:/Data/Hamamastsu/H18/'\n",
    "ids = os.listdir(path + 'x40')\n",
    "train = 'E:/Anaconda/Mitosis/Dataset/train/'\n",
    "len(ids)"
   ]
  },
  {
   "cell_type": "code",
   "execution_count": 65,
   "id": "7fc96a71-8e16-4f2b-9b6d-b41329a8309b",
   "metadata": {},
   "outputs": [
    {
     "name": "stderr",
     "output_type": "stream",
     "text": [
      "100%|████████████████████████████████████████████████████████████████████████████████| 112/112 [00:22<00:00,  5.04it/s]\n"
     ]
    }
   ],
   "source": [
    "for n,Id in tqdm(enumerate(ids),total = len(ids)):\n",
    "    img_path = Id\n",
    "    mit_path = Id\n",
    "    cor_path = Id.replace('.tiff','_mitosis.csv')\n",
    "    img = cv2.imread(path + 'x40/' + img_path,1)\n",
    "    mit = cv2.imread(path + 'mitosis/' + mit_path,1)\n",
    "    if os.stat(path + 'coordinates/' + cor_path).st_size != 0:\n",
    "        cor = pd.read_csv(path + 'coordinates/' + cor_path,header = None)\n",
    "        for i in range(len(cor)):\n",
    "            x = int(cor[0][i])\n",
    "            y = int(cor[1][i])\n",
    "            if((y - 128) < 0):\n",
    "                temp1 = 0\n",
    "            else:\n",
    "                temp1 = y - 128\n",
    "            if((x - 128) < 0):\n",
    "                temp2 = 0\n",
    "            else:\n",
    "                temp2 = x - 128\n",
    "            cv2.imwrite(train + 'frames/' + img_path.replace('.tiff','_' + str(i) + '.tiff'),img[temp1 : y + 128, temp2 : x + 128])\n",
    "            cv2.imwrite(train + 'mitosis/' + mit_path.replace('.tiff','_' + str(i) + '.tiff'),mit[temp1 : y + 128, temp2 : x + 128])\n",
    "    else:\n",
    "        x = 770\n",
    "        y = 690\n",
    "        cv2.imwrite(train + 'frames/' + img_path,img[y - 128 : y + 128, x - 128 : x + 128])\n",
    "        cv2.imwrite(train + 'mitosis/' + mit_path,mit[y - 128 : y + 128, x - 128 : x + 128])"
   ]
  },
  {
   "cell_type": "code",
   "execution_count": 7,
   "id": "2dca6527-59d9-4a6c-b352-02411cde85ea",
   "metadata": {},
   "outputs": [],
   "source": [
    "# for n,Id in tqdm(enumerate(ids),total = len(ids)):\n",
    "#     data_type = os.listdir(path + Id)\n",
    "#     for nn,IId in enumerate(data_type):\n",
    "#         path2 = path + Id + '/' + IId + '/'\n",
    "#         path3 = path2 + 'x40/'\n",
    "#         frames = os.listdir(path3)\n",
    "#         for nnn,IIId in tqdm(enumerate(frames),total = len(frames)):\n",
    "#             img_path = IIId\n",
    "#             mit_path = IIId.replace('.tiff','_mitosis.jpg')\n",
    "#             cor_path = IIId.replace('.tiff','_mitosis.csv')\n",
    "#             img = cv2.imread(path3 + img_path,1)\n",
    "#             mit = cv2.imread(path2 + 'mitosis/' + mit_path,1)\n",
    "#             if os.stat(path2 + 'coordinates/' + cor_path).st_size != 0:\n",
    "#                 cor = pd.read_csv(path2 + 'coordinates/' + cor_path,header = None)\n",
    "#                 for i in range(len(cor)):\n",
    "#                     x = int(cor[0][i])\n",
    "#                     y = int(cor[1][i])\n",
    "#                     if((y - 128) < 0):\n",
    "#                         temp1 = 0\n",
    "#                     else:\n",
    "#                         temp1 = y - 128\n",
    "#                     if((x - 128) < 0):\n",
    "#                         temp2 = 0\n",
    "#                     else:\n",
    "#                         temp2 = x - 128\n",
    "#                     cv2.imwrite('E:/extracted/' + Id + '/' + IId + '/frames/' + img_path.replace('.tiff','_' + str(i) + '.tiff'),img[temp1 : y + 128, temp2 : x + 128])\n",
    "#                     cv2.imwrite('E:/extracted/' + Id + '/' + IId + '/mitosis/' + mit_path.replace('.jpg','_' + str(i) + '.tiff'),mit[temp1 : y + 128, temp2 : x + 128])\n",
    "#             else:\n",
    "#                 x = 770\n",
    "#                 y = 690\n",
    "#                 cv2.imwrite('E:/extracted/' + Id + '/' + IId + '/frames/' + img_path.replace('.tiff','_' + str(i) + '.tiff'),img[y - 128 : y + 128, x - 128 : x + 128])\n",
    "#                 cv2.imwrite('E:/extracted/' + Id + '/' + IId + '/mitosis/' + mit_path.replace('.jpg','_' + str(i) + '.tiff'),mit[y - 128 : y + 128, x - 128 : x + 128])"
   ]
  }
 ],
 "metadata": {
  "kernelspec": {
   "display_name": "Python 3",
   "language": "python",
   "name": "python3"
  },
  "language_info": {
   "codemirror_mode": {
    "name": "ipython",
    "version": 3
   },
   "file_extension": ".py",
   "mimetype": "text/x-python",
   "name": "python",
   "nbconvert_exporter": "python",
   "pygments_lexer": "ipython3",
   "version": "3.8.8"
  }
 },
 "nbformat": 4,
 "nbformat_minor": 5
}
