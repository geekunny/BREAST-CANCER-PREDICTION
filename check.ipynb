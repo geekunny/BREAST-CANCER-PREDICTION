{
 "cells": [
  {
   "cell_type": "code",
   "execution_count": 7,
   "id": "ea8865c9-30f5-4832-b53b-bf60a0831663",
   "metadata": {},
   "outputs": [],
   "source": [
    "import os\n",
    "import shutil\n",
    "from tqdm import tqdm"
   ]
  },
  {
   "cell_type": "code",
   "execution_count": 11,
   "id": "36a8aa57-193d-4d59-a71b-70bff5d3b9f8",
   "metadata": {},
   "outputs": [
    {
     "data": {
      "text/plain": [
       "2"
      ]
     },
     "execution_count": 11,
     "metadata": {},
     "output_type": "execute_result"
    }
   ],
   "source": [
    "mit = 'E:/Data/Hamamastsu/H12/mitosis/'\n",
    "mits = os.listdir(mit)\n",
    "len(mits)"
   ]
  },
  {
   "cell_type": "code",
   "execution_count": 12,
   "id": "858209e6-969b-416f-8449-5256fad382b0",
   "metadata": {},
   "outputs": [],
   "source": [
    "source = 'E:/Dataset/Hamamastsu/H12/mitosis/'\n",
    "destination = 'E:/Data/Hamamastsu/H12/check/'"
   ]
  },
  {
   "cell_type": "code",
   "execution_count": 13,
   "id": "9e3ccb98-8ab9-4b0c-8a86-b48e0dd377b6",
   "metadata": {},
   "outputs": [
    {
     "name": "stderr",
     "output_type": "stream",
     "text": [
      "100%|████████████████████████████████████████████████████████████████████████████████████| 2/2 [00:00<00:00, 17.75it/s]\n"
     ]
    }
   ],
   "source": [
    "for i in tqdm(mits, total = len(mits)):\n",
    "    try:\n",
    "        shutil.copy(source + i.replace('.tiff','_mitosis.jpg'), destination)\n",
    "    except shutil.SameFileError:\n",
    "        print(\"Source and destination represents the same file.\")\n",
    "    except IsADirectoryError:\n",
    "        print(\"Destination is a directory.\")\n",
    "    except PermissionError:\n",
    "        print(\"Permission denied.\")\n",
    "    except:\n",
    "        print(\"Error occurred while copying file.\")"
   ]
  },
  {
   "cell_type": "code",
   "execution_count": null,
   "id": "f627666c-8c21-42fa-8189-8d8750bb172c",
   "metadata": {},
   "outputs": [],
   "source": []
  }
 ],
 "metadata": {
  "kernelspec": {
   "display_name": "Python 3",
   "language": "python",
   "name": "python3"
  },
  "language_info": {
   "codemirror_mode": {
    "name": "ipython",
    "version": 3
   },
   "file_extension": ".py",
   "mimetype": "text/x-python",
   "name": "python",
   "nbconvert_exporter": "python",
   "pygments_lexer": "ipython3",
   "version": "3.8.8"
  }
 },
 "nbformat": 4,
 "nbformat_minor": 5
}
