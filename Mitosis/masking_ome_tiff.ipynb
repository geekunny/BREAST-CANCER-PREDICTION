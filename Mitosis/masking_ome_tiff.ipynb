{
 "cells": [
  {
   "cell_type": "code",
   "execution_count": 2,
   "id": "359cb13f-3c3d-4a78-902d-2460a97c655b",
   "metadata": {},
   "outputs": [],
   "source": [
    "import cv2\n",
    "import pandas as pd\n",
    "from tqdm import tqdm\n",
    "import os"
   ]
  },
  {
   "cell_type": "code",
   "execution_count": 3,
   "id": "f6dff04b-f89f-4b9c-b732-91d743f99623",
   "metadata": {},
   "outputs": [
    {
     "data": {
      "text/plain": [
       "624"
      ]
     },
     "execution_count": 3,
     "metadata": {},
     "output_type": "execute_result"
    }
   ],
   "source": [
    "path = 'Dataset/prediction/predicted/'\n",
    "ids = os.listdir(path)\n",
    "len(ids)"
   ]
  },
  {
   "cell_type": "code",
   "execution_count": 4,
   "id": "3efd4981-7078-47d0-a8c7-1bf22c269ff5",
   "metadata": {},
   "outputs": [
    {
     "name": "stderr",
     "output_type": "stream",
     "text": [
      "100%|███████████████████████████████████████████████████████████████████████████████| 624/624 [00:02<00:00, 298.77it/s]\n"
     ]
    }
   ],
   "source": [
    "for n,Id in tqdm(enumerate(ids),total = len(ids)):\n",
    "    img = cv2.imread(path + Id,0)\n",
    "    ret, th = cv2.threshold(img,0,255,cv2.THRESH_BINARY)\n",
    "    cv2.imwrite(path + Id,th)"
   ]
  },
  {
   "cell_type": "code",
   "execution_count": 32,
   "id": "8d6bdb90-0944-4b13-8ea6-730b2fd24948",
   "metadata": {},
   "outputs": [
    {
     "data": {
      "text/plain": [
       "True"
      ]
     },
     "execution_count": 32,
     "metadata": {},
     "output_type": "execute_result"
    }
   ],
   "source": [
    "# Id = 'H05_04Cc_mitosis.ome.tiff'\n",
    "# img = cv2.imread('E:/Data/Hamamastsu/H05/annotated/' + Id,0)\n",
    "# ret, th = cv2.threshold(img,0,255,cv2.THRESH_BINARY)\n",
    "# cv2.imwrite('E:/Data/Hamamastsu/H05/mitosis/' + Id.replace('_mitosis.ome.tiff','.tiff'),th)"
   ]
  },
  {
   "cell_type": "code",
   "execution_count": null,
   "id": "7d1f165b-623c-410b-93e8-04fe4162600d",
   "metadata": {},
   "outputs": [],
   "source": []
  }
 ],
 "metadata": {
  "kernelspec": {
   "display_name": "Python 3",
   "language": "python",
   "name": "python3"
  },
  "language_info": {
   "codemirror_mode": {
    "name": "ipython",
    "version": 3
   },
   "file_extension": ".py",
   "mimetype": "text/x-python",
   "name": "python",
   "nbconvert_exporter": "python",
   "pygments_lexer": "ipython3",
   "version": "3.8.8"
  }
 },
 "nbformat": 4,
 "nbformat_minor": 5
}
