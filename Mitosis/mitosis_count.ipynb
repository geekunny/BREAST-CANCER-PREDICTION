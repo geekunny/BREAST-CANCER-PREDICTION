{
 "cells": [
  {
   "cell_type": "code",
   "execution_count": 45,
   "id": "109b5725-6bb4-4f42-a37c-1406931d384e",
   "metadata": {},
   "outputs": [],
   "source": [
    "import cv2\n",
    "import numpy as np\n",
    "import matplotlib.pyplot as plt\n",
    "import os\n",
    "from tqdm import tqdm\n",
    "import csv"
   ]
  },
  {
   "cell_type": "code",
   "execution_count": 46,
   "id": "b2ea6ef1-5b41-4534-821b-8b79b2bf1f77",
   "metadata": {},
   "outputs": [],
   "source": [
    "path = 'Dataset/test/predictions/'\n",
    "ids = os.listdir(path)\n",
    "rows = []\n",
    "count = 0"
   ]
  },
  {
   "cell_type": "code",
   "execution_count": 47,
   "id": "2285d8b9-23b2-4df2-ba95-8ef0e82ff5b7",
   "metadata": {},
   "outputs": [
    {
     "name": "stderr",
     "output_type": "stream",
     "text": [
      "100%|████████████████████████████████████████████████████████████████████████████████| 128/128 [00:04<00:00, 31.08it/s]\n"
     ]
    }
   ],
   "source": [
    "for n,Id in tqdm(enumerate(ids),total=len(ids)):\n",
    "    image = cv2.imread(path + Id)\n",
    "    gray = cv2.cvtColor(image, cv2.COLOR_BGR2GRAY)\n",
    "    blur = cv2.GaussianBlur(gray,(11,11),0)\n",
    "    canny = cv2.Canny(blur,285,100,3)\n",
    "    dilated = cv2.dilate(canny,(1,1),iterations = 2)\n",
    "    contour,_ = cv2.findContours(dilated.copy(),cv2.RETR_EXTERNAL, cv2.CHAIN_APPROX_NONE)\n",
    "    count += len(contour)\n",
    "    rows.append([Id,len(contour)])\n",
    "rows.append(['Total', count])"
   ]
  },
  {
   "cell_type": "code",
   "execution_count": 48,
   "id": "f58a18d7-0691-407f-8898-577c81d05a2c",
   "metadata": {},
   "outputs": [],
   "source": [
    "fields = ['Image','Mitosis count']\n",
    "filename = \"A04_count.csv\"\n",
    "with open(filename, 'w') as csvfile:\n",
    "\tcsvwriter = csv.writer(csvfile)\n",
    "\tcsvwriter.writerow(fields)\n",
    "\tcsvwriter.writerows(rows)"
   ]
  }
 ],
 "metadata": {
  "kernelspec": {
   "display_name": "Python 3",
   "language": "python",
   "name": "python3"
  },
  "language_info": {
   "codemirror_mode": {
    "name": "ipython",
    "version": 3
   },
   "file_extension": ".py",
   "mimetype": "text/x-python",
   "name": "python",
   "nbconvert_exporter": "python",
   "pygments_lexer": "ipython3",
   "version": "3.8.8"
  }
 },
 "nbformat": 4,
 "nbformat_minor": 5
}
