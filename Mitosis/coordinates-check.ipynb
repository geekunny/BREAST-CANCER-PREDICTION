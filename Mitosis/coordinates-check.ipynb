{
 "cells": [
  {
   "cell_type": "code",
   "execution_count": 1,
   "id": "1d16090e-14f5-4651-bb73-5db04b6c8a27",
   "metadata": {},
   "outputs": [],
   "source": [
    "import cv2\n",
    "import os\n",
    "import numpy as np\n",
    "import pandas as pd"
   ]
  },
  {
   "cell_type": "code",
   "execution_count": 4,
   "id": "f1000a9b-47df-427f-8b9f-29c7e286858c",
   "metadata": {},
   "outputs": [],
   "source": [
    "path = 'coordinates/masks/'\n",
    "ids = os.listdir(path)"
   ]
  },
  {
   "cell_type": "code",
   "execution_count": 8,
   "id": "abe21d43-4a93-458c-8dce-5d186cb6a98d",
   "metadata": {},
   "outputs": [],
   "source": [
    "cor_path = 'coordinates/coordinates/'\n",
    "cors = os.listdir(cor_path)\n",
    "# 1485 1663"
   ]
  },
  {
   "cell_type": "code",
   "execution_count": 10,
   "id": "c7169f59-e8f7-49b8-8a00-630bd48d936f",
   "metadata": {},
   "outputs": [
    {
     "name": "stdout",
     "output_type": "stream",
     "text": [
      "A10_00Ac.tiff\n",
      "(348, 597) -> False\n",
      "\n",
      "\n",
      "A10_00Cd.tiff\n",
      "(464, 196) -> False\n",
      "\n",
      "\n",
      "A10_02Ad.tiff\n",
      "(719, 470) -> False\n",
      "\n",
      "\n",
      "A10_02Ba.tiff\n",
      "(768, 353) -> False\n",
      "\n",
      "\n",
      "A10_02Db.tiff\n",
      "(696, 762) -> False\n",
      "\n",
      "\n",
      "A10_03Bc.tiff\n",
      "(1001, 33) -> False\n",
      "\n",
      "\n",
      "A10_03Ca.tiff\n",
      "(530, 166) -> False\n",
      "\n",
      "\n",
      "A10_04Cc.tiff\n",
      "(617, 847) -> False\n",
      "\n",
      "\n",
      "A10_04Cd.tiff\n",
      "(836, 1062) -> False\n",
      "\n",
      "\n",
      "A10_04Dd.tiff\n",
      "(265, 1324) -> False\n",
      "\n",
      "\n",
      "H17_00Ab.tiff\n",
      "(1036, 1321) -> False\n",
      "\n",
      "\n",
      "H17_00Bd.tiff\n",
      "(1489, 538) -> False\n",
      "\n",
      "\n",
      "(1155, 666) -> False\n",
      "\n",
      "\n",
      "(1275, 964) -> False\n",
      "\n",
      "\n",
      "H17_00Cb.tiff\n",
      "(1140, 1229) -> False\n",
      "\n",
      "\n",
      "H17_00Cc.tiff\n",
      "(1253, 998) -> False\n",
      "\n",
      "\n",
      "H17_00Db.tiff\n",
      "(516, 740) -> False\n",
      "\n",
      "\n",
      "H17_01Ab.tiff\n",
      "(268, 200) -> False\n",
      "\n",
      "\n",
      "H17_01Ac.tiff\n",
      "(19, 410) -> False\n",
      "\n",
      "\n",
      "H17_01Ad.tiff\n",
      "(1355, 876) -> False\n",
      "\n",
      "\n",
      "(1031, 1102) -> False\n",
      "\n",
      "\n",
      "H17_01Ba.tiff\n",
      "(294, 620) -> False\n",
      "\n",
      "\n",
      "H17_01Cb.tiff\n",
      "(1584, 703) -> False\n",
      "\n",
      "\n"
     ]
    }
   ],
   "source": [
    "for n,Id in enumerate(ids):\n",
    "     if os.stat(cor_path + Id.replace('.tiff','_mitosis.csv')).st_size != 0:\n",
    "        file = pd.read_csv(cor_path + Id.replace('.tiff','_mitosis.csv'),header = None)\n",
    "        print(Id)\n",
    "        for i in range(len(file)):\n",
    "            x = int(file[0][i])\n",
    "            y = int(file[1][i])\n",
    "            img = cv2.imread(path + Id,0)\n",
    "            img = cv2.resize(img,(1663,11485))\n",
    "            print((x,y),\"->\",img[y,x] == 255)\n",
    "            print(\"\\n\")"
   ]
  },
  {
   "cell_type": "code",
   "execution_count": null,
   "id": "4e550cfc-4f18-4b82-acc7-3433040c97e5",
   "metadata": {},
   "outputs": [],
   "source": []
  }
 ],
 "metadata": {
  "kernelspec": {
   "display_name": "Python 3",
   "language": "python",
   "name": "python3"
  },
  "language_info": {
   "codemirror_mode": {
    "name": "ipython",
    "version": 3
   },
   "file_extension": ".py",
   "mimetype": "text/x-python",
   "name": "python",
   "nbconvert_exporter": "python",
   "pygments_lexer": "ipython3",
   "version": "3.8.8"
  }
 },
 "nbformat": 4,
 "nbformat_minor": 5
}
