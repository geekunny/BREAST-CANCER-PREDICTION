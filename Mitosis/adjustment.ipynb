{
 "cells": [
  {
   "cell_type": "code",
   "execution_count": 1,
   "id": "b8cd3883-d74a-4189-8642-3bd87b8610bc",
   "metadata": {},
   "outputs": [],
   "source": [
    "import os\n",
    "import shutil\n",
    "from tqdm import tqdm"
   ]
  },
  {
   "cell_type": "code",
   "execution_count": 117,
   "id": "45a0216b-9bd5-4de3-9927-c02033ddfce1",
   "metadata": {},
   "outputs": [
    {
     "data": {
      "text/plain": [
       "112"
      ]
     },
     "execution_count": 117,
     "metadata": {},
     "output_type": "execute_result"
    }
   ],
   "source": [
    "cor = 'E:/Dataset/Apiero/A18/coordinates/'\n",
    "ids = os.listdir(cor)\n",
    "len(ids)"
   ]
  },
  {
   "cell_type": "code",
   "execution_count": 118,
   "id": "6584bea4-8933-4645-b9f7-022883a2d0ca",
   "metadata": {},
   "outputs": [],
   "source": [
    "cors = []\n",
    "no_cors =[]"
   ]
  },
  {
   "cell_type": "code",
   "execution_count": 119,
   "id": "8a8e8d18-cd3f-41bc-941a-6a3c317d5cdf",
   "metadata": {},
   "outputs": [
    {
     "name": "stdout",
     "output_type": "stream",
     "text": [
      "17\n",
      "95\n"
     ]
    }
   ],
   "source": [
    "for i in ids:\n",
    "    if os.stat(cor + i).st_size != 0:\n",
    "        cors.append(i)\n",
    "    else:\n",
    "        no_cors.append(i)\n",
    "print(len(cors))\n",
    "print(len(no_cors))"
   ]
  },
  {
   "cell_type": "code",
   "execution_count": 120,
   "id": "4e7c6b59-eb35-4d7b-ab8b-48a2c903d20d",
   "metadata": {},
   "outputs": [],
   "source": [
    "source = 'E:/Dataset/Apiero/A18/x40/'\n",
    "yes_destination = 'E:/Dataset/Apiero/A18/yes_mitosis/'\n",
    "no_destination = 'E:/Dataset/Apiero/A18/no_mitosis/'"
   ]
  },
  {
   "cell_type": "code",
   "execution_count": 121,
   "id": "df7c364d-f589-4fc7-b0bf-f231bb5a12d3",
   "metadata": {},
   "outputs": [
    {
     "name": "stderr",
     "output_type": "stream",
     "text": [
      "100%|██████████████████████████████████████████████████████████████████████████████████| 17/17 [00:03<00:00,  5.58it/s]\n"
     ]
    }
   ],
   "source": [
    "for i in tqdm(cors, total = len(cors)):\n",
    "    try:\n",
    "        shutil.copy(source + i.replace('_mitosis.csv','.tiff'), yes_destination)\n",
    "    except shutil.SameFileError:\n",
    "        print(\"Source and destination represents the same file.\")\n",
    "    except IsADirectoryError:\n",
    "        print(\"Destination is a directory.\")\n",
    "    except PermissionError:\n",
    "        print(\"Permission denied.\")\n",
    "    except:\n",
    "        print(\"Error occurred while copying file.\")"
   ]
  },
  {
   "cell_type": "code",
   "execution_count": 122,
   "id": "9a9775d6-1b34-4c60-9fd6-38c282ab2fb3",
   "metadata": {},
   "outputs": [
    {
     "name": "stderr",
     "output_type": "stream",
     "text": [
      "100%|██████████████████████████████████████████████████████████████████████████████████| 95/95 [00:19<00:00,  4.77it/s]\n"
     ]
    }
   ],
   "source": [
    "for i in tqdm(no_cors, total = len(no_cors)):\n",
    "    try:\n",
    "        shutil.copy(source + i.replace('_mitosis.csv','.tiff'), no_destination)\n",
    "    except shutil.SameFileError:\n",
    "        print(\"Source and destination represents the same file.\")\n",
    "    except IsADirectoryError:\n",
    "        print(\"Destination is a directory.\")\n",
    "    except PermissionError:\n",
    "        print(\"Permission denied.\")\n",
    "    except:\n",
    "        print(\"Error occurred while copying file.\")"
   ]
  },
  {
   "cell_type": "code",
   "execution_count": null,
   "id": "e25e894e-d0bd-45bc-9c3f-78120d13b940",
   "metadata": {},
   "outputs": [],
   "source": []
  }
 ],
 "metadata": {
  "kernelspec": {
   "display_name": "Python 3",
   "language": "python",
   "name": "python3"
  },
  "language_info": {
   "codemirror_mode": {
    "name": "ipython",
    "version": 3
   },
   "file_extension": ".py",
   "mimetype": "text/x-python",
   "name": "python",
   "nbconvert_exporter": "python",
   "pygments_lexer": "ipython3",
   "version": "3.8.8"
  }
 },
 "nbformat": 4,
 "nbformat_minor": 5
}
