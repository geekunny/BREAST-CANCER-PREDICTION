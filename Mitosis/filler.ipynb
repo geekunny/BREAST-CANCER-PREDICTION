{
 "cells": [
  {
   "cell_type": "code",
   "execution_count": 1,
   "id": "553f6c05-1b03-45b5-8a67-34382df9d7c1",
   "metadata": {},
   "outputs": [],
   "source": [
    "import os\n",
    "import cv2\n",
    "from tqdm import tqdm"
   ]
  },
  {
   "cell_type": "code",
   "execution_count": 6,
   "id": "6a45266b-f052-469c-8912-deff23788003",
   "metadata": {},
   "outputs": [
    {
     "data": {
      "text/plain": [
       "(1485, 1663)"
      ]
     },
     "execution_count": 6,
     "metadata": {},
     "output_type": "execute_result"
    }
   ],
   "source": [
    "mask = cv2.imread('E:/Data/Apiero/A03/mitosis/A03_00Cb.tiff',0)\n",
    "mask = cv2.resize(mask,(1663,1485))\n",
    "mask.shape"
   ]
  },
  {
   "cell_type": "code",
   "execution_count": 7,
   "id": "790f4425-26d0-4d4e-882c-a99a06cc5f2f",
   "metadata": {},
   "outputs": [
    {
     "data": {
      "text/plain": [
       "27"
      ]
     },
     "execution_count": 7,
     "metadata": {},
     "output_type": "execute_result"
    }
   ],
   "source": [
    "mit = 'E:/Data/Hamamastsu/H17/mitosis/'\n",
    "mits = os.listdir(mit)\n",
    "len(mits)"
   ]
  },
  {
   "cell_type": "code",
   "execution_count": 9,
   "id": "7d94c83d-6df3-4143-bdda-d0f7b1b6febd",
   "metadata": {},
   "outputs": [
    {
     "data": {
      "text/plain": [
       "80"
      ]
     },
     "execution_count": 9,
     "metadata": {},
     "output_type": "execute_result"
    }
   ],
   "source": [
    "x40 = 'E:/Data/Hamamastsu/H17/x40/'\n",
    "x40s = os.listdir(x40)\n",
    "len(x40s)"
   ]
  },
  {
   "cell_type": "code",
   "execution_count": 10,
   "id": "5f429a7e-99b5-4d08-a831-d3920105298d",
   "metadata": {},
   "outputs": [
    {
     "name": "stderr",
     "output_type": "stream",
     "text": [
      "100%|██████████████████████████████████████████████████████████████████████████████████| 80/80 [00:00<00:00, 81.67it/s]\n"
     ]
    }
   ],
   "source": [
    "for i in tqdm(x40s, total = len(x40s)):\n",
    "    if i not in mits:\n",
    "        cv2.imwrite(mit + i,mask)"
   ]
  },
  {
   "cell_type": "code",
   "execution_count": null,
   "id": "dc1a1fe2-c07b-4d9d-83b5-b3aa05bc20ea",
   "metadata": {},
   "outputs": [],
   "source": []
  }
 ],
 "metadata": {
  "kernelspec": {
   "display_name": "Python 3",
   "language": "python",
   "name": "python3"
  },
  "language_info": {
   "codemirror_mode": {
    "name": "ipython",
    "version": 3
   },
   "file_extension": ".py",
   "mimetype": "text/x-python",
   "name": "python",
   "nbconvert_exporter": "python",
   "pygments_lexer": "ipython3",
   "version": "3.8.8"
  }
 },
 "nbformat": 4,
 "nbformat_minor": 5
}
