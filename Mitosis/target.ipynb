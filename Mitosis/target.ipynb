{
 "cells": [
  {
   "cell_type": "code",
   "execution_count": 15,
   "id": "8ef52b09-95da-4fda-ae0a-41b656aa7fa1",
   "metadata": {},
   "outputs": [],
   "source": [
    "import os\n",
    "import shutil\n",
    "import pandas as pd\n",
    "from tqdm import tqdm"
   ]
  },
  {
   "cell_type": "code",
   "execution_count": 16,
   "id": "b24f7d7f-1cbb-4b30-96d8-7faf211d89df",
   "metadata": {},
   "outputs": [],
   "source": [
    "source = 'E:/Dataset/Hamamastsu/H04/mitosis/'\n",
    "destination = 'D:/mitosis/'\n",
    "mitosis = pd.read_csv('D:/mitosis.csv',header = None)"
   ]
  },
  {
   "cell_type": "code",
   "execution_count": 17,
   "id": "37c68a32-109f-4cce-ba38-63fed3d2018b",
   "metadata": {},
   "outputs": [
    {
     "name": "stderr",
     "output_type": "stream",
     "text": [
      "100%|████████████████████████████████████████████████████████████████████████████████| 103/103 [00:03<00:00, 30.35it/s]\n"
     ]
    }
   ],
   "source": [
    "for i in tqdm(range(len(mitosis)), total = len(mitosis)):\n",
    "    try:\n",
    "        shutil.copy(source + mitosis[0][i], destination)\n",
    "    except shutil.SameFileError:\n",
    "        print(\"Source and destination represents the same file.\")\n",
    "    except IsADirectoryError:\n",
    "        print(\"Destination is a directory.\")\n",
    "    except PermissionError:\n",
    "        print(\"Permission denied.\")\n",
    "    except:\n",
    "        print(\"Error occurred while copying file.\")"
   ]
  },
  {
   "cell_type": "code",
   "execution_count": null,
   "id": "cacf99fd-ba52-4ab3-8114-309de99eb3e0",
   "metadata": {},
   "outputs": [],
   "source": []
  }
 ],
 "metadata": {
  "kernelspec": {
   "display_name": "Python 3",
   "language": "python",
   "name": "python3"
  },
  "language_info": {
   "codemirror_mode": {
    "name": "ipython",
    "version": 3
   },
   "file_extension": ".py",
   "mimetype": "text/x-python",
   "name": "python",
   "nbconvert_exporter": "python",
   "pygments_lexer": "ipython3",
   "version": "3.8.8"
  }
 },
 "nbformat": 4,
 "nbformat_minor": 5
}
