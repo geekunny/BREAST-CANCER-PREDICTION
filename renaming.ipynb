{
 "cells": [
  {
   "cell_type": "code",
   "execution_count": 1,
   "id": "a422ef0b-ad3a-4561-a82d-49fece73983f",
   "metadata": {},
   "outputs": [],
   "source": [
    "import os\n",
    "from tqdm import tqdm\n",
    "import cv2\n",
    "import pandas as pd\n",
    "import glob"
   ]
  },
  {
   "cell_type": "code",
   "execution_count": 5,
   "id": "4b287028-ff68-413a-ac5e-afc23dc949a2",
   "metadata": {},
   "outputs": [],
   "source": [
    "path = 'D:/mitosis_/'\n",
    "ids = os.listdir(path)\n",
    "ids.sort(key=lambda x: os.path.getmtime(path + x))"
   ]
  },
  {
   "cell_type": "code",
   "execution_count": 7,
   "id": "a8ba19cc-b437-4b23-a03d-5d47dd06e8ca",
   "metadata": {},
   "outputs": [
    {
     "name": "stderr",
     "output_type": "stream",
     "text": [
      "100%|███████████████████████████████████████████████████████████████████████████████| 103/103 [00:00<00:00, 281.21it/s]\n"
     ]
    }
   ],
   "source": [
    "for n,Id in tqdm(enumerate(ids), total = len(ids)):\n",
    "    os.rename(path + Id,path + Id.replace(str(n) + '_',''))"
   ]
  },
  {
   "cell_type": "code",
   "execution_count": null,
   "id": "b4e471a4-699c-4516-b83f-ec022efe8e89",
   "metadata": {},
   "outputs": [],
   "source": []
  }
 ],
 "metadata": {
  "kernelspec": {
   "display_name": "Python 3",
   "language": "python",
   "name": "python3"
  },
  "language_info": {
   "codemirror_mode": {
    "name": "ipython",
    "version": 3
   },
   "file_extension": ".py",
   "mimetype": "text/x-python",
   "name": "python",
   "nbconvert_exporter": "python",
   "pygments_lexer": "ipython3",
   "version": "3.8.8"
  }
 },
 "nbformat": 4,
 "nbformat_minor": 5
}
